{
 "cells": [
  {
   "cell_type": "code",
   "execution_count": 1,
   "metadata": {},
   "outputs": [],
   "source": [
    "class SortingAlgorithms:\n",
    "    \n",
    "    def bubbleSort(self,arr):\n",
    "        for i in range(len(arr) - 1, 0 ,-1):\n",
    "            for j in range(i):\n",
    "                if arr[j] > arr[j+1]:\n",
    "                    arr[j], arr[j+1] = arr[j+1], arr[j]\n",
    "        return arr\n",
    "    \n",
    "    def selectionSort(self,arr):\n",
    "        for i in range(len(arr)-1):\n",
    "            minIndex = i\n",
    "            for j in range(i+1, len(arr)):\n",
    "                if arr[j] < arr[minIndex]:\n",
    "                    minIndex = j\n",
    "            if i != minIndex:\n",
    "                arr[i], arr[minIndex] = arr[minIndex], arr[i]\n",
    "        return arr\n",
    "    \n",
    "    def insertionSort(self,arr):\n",
    "        for i in range(1, len(arr)):\n",
    "            temp = arr[i]\n",
    "            j = i-1\n",
    "            while temp < arr[j] and j > -1:\n",
    "                arr[j+1] = arr[j] \n",
    "                arr[j] = temp\n",
    "                j -= 1\n",
    "        return arr\n",
    "    \n",
    "    def merge(self,arr1, arr2):\n",
    "        firstPointer = 0\n",
    "        secondPointer = 0\n",
    "        mergedList = []\n",
    "\n",
    "        while firstPointer < len(arr1) and secondPointer < len(arr2):\n",
    "            if arr1[firstPointer] < arr2[secondPointer]:\n",
    "                mergedList.append(arr1[firstPointer])\n",
    "                firstPointer += 1\n",
    "            else:\n",
    "                mergedList.append(arr2[secondPointer])\n",
    "                secondPointer += 1\n",
    "\n",
    "        while firstPointer < len(arr1):\n",
    "            mergedList.append(arr1[firstPointer])\n",
    "            firstPointer += 1\n",
    "\n",
    "        while secondPointer < len(arr2):\n",
    "            mergedList.append(arr2[secondPointer])\n",
    "            secondPointer += 1\n",
    "\n",
    "        return mergedList\n",
    "\n",
    "\n",
    "    def mergeSort(self,arr):\n",
    "        if len(arr) == 1:\n",
    "            return arr\n",
    "        midPoint = int(len(arr)/2)\n",
    "        leftPart = arr[:midPoint]\n",
    "        rightPart = arr[midPoint:]\n",
    "        return self.merge(self.mergeSort(leftPart), self.mergeSort(rightPart))\n",
    "    \n",
    "    def pivot(self, arr, pivotIndex, endIndex):\n",
    "        swapIndex = pivotIndex\n",
    "        for i in range(pivotIndex+1, endIndex+1):\n",
    "            if arr[i] < arr[pivotIndex]:\n",
    "                swapIndex += 1\n",
    "                arr[swapIndex], arr[i] = arr[i], arr[swapIndex]\n",
    "        arr[pivotIndex], arr[swapIndex] = arr[swapIndex], arr[pivotIndex]\n",
    "        return swapIndex\n",
    "\n",
    "    def quickSort(self,arr, leftPointer = 0, rightPointer=None):\n",
    "        if rightPointer == None:\n",
    "            rightPointer = len(arr) - 1\n",
    "        if leftPointer < rightPointer:\n",
    "            pivotIndex = self.pivot(arr, leftPointer, rightPointer)\n",
    "            self.quickSort(arr, leftPointer, pivotIndex-1)  \n",
    "            self.quickSort(arr, pivotIndex+1, rightPointer)       \n",
    "        return arr\n",
    "    \n",
    "    def heapify(self,arr, n, i):\n",
    "        largest = i\n",
    "        l = 2 * i + 1\n",
    "        r = 2 * i + 2\n",
    "\n",
    "        if l < n and arr[largest] < arr[l]:\n",
    "            largest = l\n",
    "\n",
    "        if r < n and arr[largest] < arr[r]:\n",
    "            largest = r\n",
    "\n",
    "        if largest != i:\n",
    "            arr[i], arr[largest] = arr[largest], arr[i]\n",
    "            self.heapify(arr, n, largest)\n",
    "        \n",
    "    def heapSort(self,arr):\n",
    "        n = len(arr)\n",
    "\n",
    "        # Build a MAX_HEAP.\n",
    "        for i in range(n, -1, -1):\n",
    "            self.heapify(arr, n, i)\n",
    "\n",
    "        # Swap nodes with root to sort\n",
    "        for i in range(n-1, 0, -1):\n",
    "            arr[i], arr[0] = arr[0], arr[i]\n",
    "            self.heapify(arr, i, 0)\n",
    "        return arr"
   ]
  },
  {
   "cell_type": "code",
   "execution_count": 2,
   "metadata": {},
   "outputs": [],
   "source": [
    "sorting = SortingAlgorithms()"
   ]
  },
  {
   "cell_type": "code",
   "execution_count": 3,
   "metadata": {},
   "outputs": [
    {
     "data": {
      "text/plain": [
       "[1, 2, 3, 4, 5, 6, 8, 10]"
      ]
     },
     "execution_count": 3,
     "metadata": {},
     "output_type": "execute_result"
    }
   ],
   "source": [
    "sorting.bubbleSort([5,1,3,4,2,8,6,10])"
   ]
  },
  {
   "cell_type": "code",
   "execution_count": 4,
   "metadata": {},
   "outputs": [
    {
     "data": {
      "text/plain": [
       "[1, 2, 3, 4, 5, 6, 8, 10]"
      ]
     },
     "execution_count": 4,
     "metadata": {},
     "output_type": "execute_result"
    }
   ],
   "source": [
    "sorting.selectionSort([5,1,3,4,2,8,6,10])"
   ]
  },
  {
   "cell_type": "code",
   "execution_count": 5,
   "metadata": {},
   "outputs": [
    {
     "data": {
      "text/plain": [
       "[1, 2, 3, 4, 5, 6, 8, 10]"
      ]
     },
     "execution_count": 5,
     "metadata": {},
     "output_type": "execute_result"
    }
   ],
   "source": [
    "sorting.insertionSort([5,1,3,4,2,8,6,10])"
   ]
  },
  {
   "cell_type": "code",
   "execution_count": 6,
   "metadata": {},
   "outputs": [
    {
     "data": {
      "text/plain": [
       "[1, 2, 3, 4, 5, 6, 8, 10]"
      ]
     },
     "execution_count": 6,
     "metadata": {},
     "output_type": "execute_result"
    }
   ],
   "source": [
    "sorting.mergeSort([5,1,3,4,2,8,6,10])"
   ]
  },
  {
   "cell_type": "code",
   "execution_count": 7,
   "metadata": {},
   "outputs": [
    {
     "data": {
      "text/plain": [
       "[1, 2, 3, 4, 5, 6, 8, 10]"
      ]
     },
     "execution_count": 7,
     "metadata": {},
     "output_type": "execute_result"
    }
   ],
   "source": [
    "sorting.quickSort([5,1,3,4,2,8,6,10])"
   ]
  },
  {
   "cell_type": "code",
   "execution_count": 8,
   "metadata": {},
   "outputs": [
    {
     "data": {
      "text/plain": [
       "[1, 2, 3, 4, 5, 6, 8, 10]"
      ]
     },
     "execution_count": 8,
     "metadata": {},
     "output_type": "execute_result"
    }
   ],
   "source": [
    "sorting.heapSort([5,1,3,4,2,8,6,10])"
   ]
  },
  {
   "cell_type": "code",
   "execution_count": null,
   "metadata": {},
   "outputs": [],
   "source": []
  }
 ],
 "metadata": {
  "kernelspec": {
   "display_name": "Python 3",
   "language": "python",
   "name": "python3"
  },
  "language_info": {
   "codemirror_mode": {
    "name": "ipython",
    "version": 3
   },
   "file_extension": ".py",
   "mimetype": "text/x-python",
   "name": "python",
   "nbconvert_exporter": "python",
   "pygments_lexer": "ipython3",
   "version": "3.8.5"
  }
 },
 "nbformat": 4,
 "nbformat_minor": 4
}
